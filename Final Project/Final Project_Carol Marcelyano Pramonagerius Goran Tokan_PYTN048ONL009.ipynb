{
 "cells": [
  {
   "cell_type": "markdown",
   "metadata": {
    "id": "VH2LWfLw0c-D"
   },
   "source": [
    "#Pengenalan"
   ]
  },
  {
   "cell_type": "markdown",
   "metadata": {
    "id": "q8P_2Z441JoI"
   },
   "source": [
    "**Latar Belakang**\n",
    "\n",
    "Ditengah wabah COVID-19 yang merubah normalitas proses pada tiap sektor di seluruh dunia, bidang medis dan kesehatan menjadi ujung tombak untuk permasalahan ini. Dengan jumlah kasus yang membludak, bukan hal yang mustahil untuk terjangkit wabah ini; dan jika demikian, rumah sakit menjadi tempat persinggahan untuk rawat inap. Berhubungan dengan biaya rawat inap ataupun penyembuhan pasien, perusahaan asuransi kesehatan sangat terikat dengan cost atau biaya penyembuhan. Oleh karna itu, tim finansial perusahaan asuransi sudah seharusnya membuat eksplorasi terhadap datanya. Pemilihan dataset ini berujung pada data \"Personal medical cost dataset\".\n",
    "\n",
    "**Data**\n",
    "(Medical Cost Personal Dataset)\n",
    "\n",
    "Dataset Personal medical cost berisi data tentang jumlah dana yang harus dibayar berdasarkan variabel independennya, seperti umur, gender, pengaruh rokok, dan lainnya.\n",
    "\n",
    "Variabel independen\n",
    "- age/Umur (numerik)\n",
    "- sex/j. kelamin (kategorik)\n",
    "- body mass index (numerik)\n",
    "- children/jumlah anak (numerik)\n",
    "- smoker/perokok (kategorik)\n",
    "- region/wilayah tinggal (kategorik)\n",
    "\n",
    "Variabel dependen\n",
    "- charges/biaya (numerik)\n",
    "\n",
    "ref: https://www.kaggle.com/mirichoi0218/insurance\n",
    "\n",
    "**Objektif**\n",
    "\n",
    "Objektif dari eksplorasi dan pembuatan model ini adalah mengetahui perkiraan range biaya yang akan dibayar (oleh pihak asuransi) ketika model diinterferensi dengan sebuah tupel berisikan kumpulan variabel independen layaknya data awal."
   ]
  },
  {
   "cell_type": "markdown",
   "metadata": {
    "id": "sIge6Ww7-bE7"
   },
   "source": [
    "#Importing library"
   ]
  },
  {
   "cell_type": "code",
   "execution_count": 1,
   "metadata": {
    "id": "00gtVoeyuxpU"
   },
   "outputs": [],
   "source": [
    "import time as tm\n",
    "import numpy as np\n",
    "import pandas as pd \n",
    "import matplotlib.pyplot as plt\n",
    "import seaborn as sns\n",
    "import pickle\n",
    "from math import floor\n",
    "from pprint import pprint\n",
    "from sklearn import preprocessing\n",
    "from sklearn import metrics\n",
    "from sklearn.model_selection import train_test_split\n",
    "from sklearn.metrics import confusion_matrix\n",
    "from sklearn.metrics import classification_report\n",
    "from sklearn.preprocessing import StandardScaler\n",
    "from sklearn.ensemble import RandomForestRegressor\n",
    "from sklearn.model_selection import RandomizedSearchCV\n",
    "from sklearn.metrics import mean_absolute_error"
   ]
  },
  {
   "cell_type": "markdown",
   "metadata": {
    "id": "pNmH_MjJAJIU"
   },
   "source": [
    "#Data Loading dan EDA"
   ]
  },
  {
   "cell_type": "code",
   "execution_count": 2,
   "metadata": {
    "colab": {
     "base_uri": "https://localhost:8080/",
     "height": 197
    },
    "id": "YuBmvfp9BCa9",
    "outputId": "16f0903f-152b-42b0-8bd2-b8f40f767321"
   },
   "outputs": [
    {
     "data": {
      "text/html": [
       "<div>\n",
       "<style scoped>\n",
       "    .dataframe tbody tr th:only-of-type {\n",
       "        vertical-align: middle;\n",
       "    }\n",
       "\n",
       "    .dataframe tbody tr th {\n",
       "        vertical-align: top;\n",
       "    }\n",
       "\n",
       "    .dataframe thead th {\n",
       "        text-align: right;\n",
       "    }\n",
       "</style>\n",
       "<table border=\"1\" class=\"dataframe\">\n",
       "  <thead>\n",
       "    <tr style=\"text-align: right;\">\n",
       "      <th></th>\n",
       "      <th>age</th>\n",
       "      <th>sex</th>\n",
       "      <th>bmi</th>\n",
       "      <th>children</th>\n",
       "      <th>smoker</th>\n",
       "      <th>region</th>\n",
       "      <th>charges</th>\n",
       "    </tr>\n",
       "  </thead>\n",
       "  <tbody>\n",
       "    <tr>\n",
       "      <th>0</th>\n",
       "      <td>19</td>\n",
       "      <td>female</td>\n",
       "      <td>27.900</td>\n",
       "      <td>0</td>\n",
       "      <td>yes</td>\n",
       "      <td>southwest</td>\n",
       "      <td>16884.92400</td>\n",
       "    </tr>\n",
       "    <tr>\n",
       "      <th>1</th>\n",
       "      <td>18</td>\n",
       "      <td>male</td>\n",
       "      <td>33.770</td>\n",
       "      <td>1</td>\n",
       "      <td>no</td>\n",
       "      <td>southeast</td>\n",
       "      <td>1725.55230</td>\n",
       "    </tr>\n",
       "    <tr>\n",
       "      <th>2</th>\n",
       "      <td>28</td>\n",
       "      <td>male</td>\n",
       "      <td>33.000</td>\n",
       "      <td>3</td>\n",
       "      <td>no</td>\n",
       "      <td>southeast</td>\n",
       "      <td>4449.46200</td>\n",
       "    </tr>\n",
       "    <tr>\n",
       "      <th>3</th>\n",
       "      <td>33</td>\n",
       "      <td>male</td>\n",
       "      <td>22.705</td>\n",
       "      <td>0</td>\n",
       "      <td>no</td>\n",
       "      <td>northwest</td>\n",
       "      <td>21984.47061</td>\n",
       "    </tr>\n",
       "    <tr>\n",
       "      <th>4</th>\n",
       "      <td>32</td>\n",
       "      <td>male</td>\n",
       "      <td>28.880</td>\n",
       "      <td>0</td>\n",
       "      <td>no</td>\n",
       "      <td>northwest</td>\n",
       "      <td>3866.85520</td>\n",
       "    </tr>\n",
       "  </tbody>\n",
       "</table>\n",
       "</div>"
      ],
      "text/plain": [
       "   age     sex     bmi  children smoker     region      charges\n",
       "0   19  female  27.900         0    yes  southwest  16884.92400\n",
       "1   18    male  33.770         1     no  southeast   1725.55230\n",
       "2   28    male  33.000         3     no  southeast   4449.46200\n",
       "3   33    male  22.705         0     no  northwest  21984.47061\n",
       "4   32    male  28.880         0     no  northwest   3866.85520"
      ]
     },
     "execution_count": 2,
     "metadata": {
      "tags": []
     },
     "output_type": "execute_result"
    }
   ],
   "source": [
    "df = pd.read_csv('dataset/cost.csv')\n",
    "df.head()"
   ]
  },
  {
   "cell_type": "markdown",
   "metadata": {
    "id": "SE02zhF5CRDb"
   },
   "source": [
    "Check nilai null"
   ]
  },
  {
   "cell_type": "code",
   "execution_count": 3,
   "metadata": {
    "colab": {
     "base_uri": "https://localhost:8080/"
    },
    "id": "4Uwk05Y4CqFl",
    "outputId": "706961a3-b2ad-4647-8ddf-aa705203d469"
   },
   "outputs": [
    {
     "data": {
      "text/plain": [
       "age         0\n",
       "sex         0\n",
       "bmi         0\n",
       "children    0\n",
       "smoker      0\n",
       "region      0\n",
       "charges     0\n",
       "dtype: int64"
      ]
     },
     "execution_count": 3,
     "metadata": {
      "tags": []
     },
     "output_type": "execute_result"
    }
   ],
   "source": [
    "df.isnull().sum()"
   ]
  },
  {
   "cell_type": "code",
   "execution_count": 4,
   "metadata": {
    "colab": {
     "base_uri": "https://localhost:8080/"
    },
    "id": "andQxdejCm8F",
    "outputId": "2aaf2ca7-4ddd-4aaa-a822-726ae69688e7"
   },
   "outputs": [
    {
     "data": {
      "text/plain": [
       "age         False\n",
       "sex         False\n",
       "bmi         False\n",
       "children    False\n",
       "smoker      False\n",
       "region      False\n",
       "charges     False\n",
       "dtype: bool"
      ]
     },
     "execution_count": 4,
     "metadata": {
      "tags": []
     },
     "output_type": "execute_result"
    }
   ],
   "source": [
    "df.isnull().any()"
   ]
  },
  {
   "cell_type": "markdown",
   "metadata": {
    "id": "pR80lfciCsOH"
   },
   "source": [
    "Deskripsi statistik data"
   ]
  },
  {
   "cell_type": "code",
   "execution_count": 5,
   "metadata": {
    "colab": {
     "base_uri": "https://localhost:8080/",
     "height": 287
    },
    "id": "wS_LKLFbC46M",
    "outputId": "123e6bc7-430a-4bb0-8551-cd1576a54d24"
   },
   "outputs": [
    {
     "data": {
      "text/html": [
       "<div>\n",
       "<style scoped>\n",
       "    .dataframe tbody tr th:only-of-type {\n",
       "        vertical-align: middle;\n",
       "    }\n",
       "\n",
       "    .dataframe tbody tr th {\n",
       "        vertical-align: top;\n",
       "    }\n",
       "\n",
       "    .dataframe thead th {\n",
       "        text-align: right;\n",
       "    }\n",
       "</style>\n",
       "<table border=\"1\" class=\"dataframe\">\n",
       "  <thead>\n",
       "    <tr style=\"text-align: right;\">\n",
       "      <th></th>\n",
       "      <th>age</th>\n",
       "      <th>bmi</th>\n",
       "      <th>children</th>\n",
       "      <th>charges</th>\n",
       "    </tr>\n",
       "  </thead>\n",
       "  <tbody>\n",
       "    <tr>\n",
       "      <th>count</th>\n",
       "      <td>1338.000000</td>\n",
       "      <td>1338.000000</td>\n",
       "      <td>1338.000000</td>\n",
       "      <td>1338.000000</td>\n",
       "    </tr>\n",
       "    <tr>\n",
       "      <th>mean</th>\n",
       "      <td>39.207025</td>\n",
       "      <td>30.663397</td>\n",
       "      <td>1.094918</td>\n",
       "      <td>13270.422265</td>\n",
       "    </tr>\n",
       "    <tr>\n",
       "      <th>std</th>\n",
       "      <td>14.049960</td>\n",
       "      <td>6.098187</td>\n",
       "      <td>1.205493</td>\n",
       "      <td>12110.011237</td>\n",
       "    </tr>\n",
       "    <tr>\n",
       "      <th>min</th>\n",
       "      <td>18.000000</td>\n",
       "      <td>15.960000</td>\n",
       "      <td>0.000000</td>\n",
       "      <td>1121.873900</td>\n",
       "    </tr>\n",
       "    <tr>\n",
       "      <th>25%</th>\n",
       "      <td>27.000000</td>\n",
       "      <td>26.296250</td>\n",
       "      <td>0.000000</td>\n",
       "      <td>4740.287150</td>\n",
       "    </tr>\n",
       "    <tr>\n",
       "      <th>50%</th>\n",
       "      <td>39.000000</td>\n",
       "      <td>30.400000</td>\n",
       "      <td>1.000000</td>\n",
       "      <td>9382.033000</td>\n",
       "    </tr>\n",
       "    <tr>\n",
       "      <th>75%</th>\n",
       "      <td>51.000000</td>\n",
       "      <td>34.693750</td>\n",
       "      <td>2.000000</td>\n",
       "      <td>16639.912515</td>\n",
       "    </tr>\n",
       "    <tr>\n",
       "      <th>max</th>\n",
       "      <td>64.000000</td>\n",
       "      <td>53.130000</td>\n",
       "      <td>5.000000</td>\n",
       "      <td>63770.428010</td>\n",
       "    </tr>\n",
       "  </tbody>\n",
       "</table>\n",
       "</div>"
      ],
      "text/plain": [
       "               age          bmi     children       charges\n",
       "count  1338.000000  1338.000000  1338.000000   1338.000000\n",
       "mean     39.207025    30.663397     1.094918  13270.422265\n",
       "std      14.049960     6.098187     1.205493  12110.011237\n",
       "min      18.000000    15.960000     0.000000   1121.873900\n",
       "25%      27.000000    26.296250     0.000000   4740.287150\n",
       "50%      39.000000    30.400000     1.000000   9382.033000\n",
       "75%      51.000000    34.693750     2.000000  16639.912515\n",
       "max      64.000000    53.130000     5.000000  63770.428010"
      ]
     },
     "execution_count": 5,
     "metadata": {
      "tags": []
     },
     "output_type": "execute_result"
    }
   ],
   "source": [
    "df.describe()"
   ]
  },
  {
   "cell_type": "markdown",
   "metadata": {
    "id": "FmQxBORKMBqQ"
   },
   "source": [
    "**Eksplorasi**"
   ]
  },
  {
   "cell_type": "markdown",
   "metadata": {
    "id": "JtwCsuAONw3P"
   },
   "source": [
    "Distribusi biaya terhadap variabel umur, perokok, bmi, dan region"
   ]
  },
  {
   "cell_type": "markdown",
   "metadata": {
    "id": "9ALiS_aRRz_T"
   },
   "source": [
    "Dari visualisasi dibawah, terdapat gap sekitar 10rb USD untuk umur 18 tahun dengan 50 tahun keatas (pada scatter terbawah). Dapat disimpulkan bahwa semakin besar umur pasien maka semakin besar juga biaya yang harus dikeluarkan."
   ]
  },
  {
   "cell_type": "code",
   "execution_count": 6,
   "metadata": {
    "colab": {
     "base_uri": "https://localhost:8080/",
     "height": 401
    },
    "id": "7QvxWi7WN7ZR",
    "outputId": "3149ca49-42e9-45e1-a2f4-8f6c67141caf"
   },
   "outputs": [
    {
     "data": {
      "text/plain": [
       "<seaborn.axisgrid.FacetGrid at 0x7fb01e343c50>"
      ]
     },
     "execution_count": 6,
     "metadata": {
      "tags": []
     },
     "output_type": "execute_result"
    },
    {
     "data": {
      "image/png": "[encoded data removed]",
      "text/plain": [
       "<Figure size 720x360 with 1 Axes>"
      ]
     },
     "metadata": {
      "needs_background": "light",
      "tags": []
     },
     "output_type": "display_data"
    }
   ],
   "source": [
    "sns.catplot(data=df, x='age', y='charges', height=5, aspect=2)"
   ]
  },
  {
   "cell_type": "markdown",
   "metadata": {
    "id": "DW_NQIAFQPge"
   },
   "source": [
    "Berikutnya adalah representasi distribusi biaya pada pasien perokok & non-perokok."
   ]
  },
  {
   "cell_type": "code",
   "execution_count": 7,
   "metadata": {
    "colab": {
     "base_uri": "https://localhost:8080/",
     "height": 386
    },
    "id": "xoEHgoYYRSFl",
    "outputId": "84fbe712-d438-4b5f-bbcc-783e46474bb2"
   },
   "outputs": [
    {
     "data": {
      "text/plain": [
       "<seaborn.axisgrid.FacetGrid at 0x7fb0231a1b10>"
      ]
     },
     "execution_count": 7,
     "metadata": {
      "tags": []
     },
     "output_type": "execute_result"
    },
    {
     "data": {
      "image/png": "[encoded data removed]",
      "text/plain": [
       "<Figure size 413.25x360 with 1 Axes>"
      ]
     },
     "metadata": {
      "needs_background": "light",
      "tags": []
     },
     "output_type": "display_data"
    }
   ],
   "source": [
    "sns.displot(df, x=\"charges\", kind=\"kde\", hue='smoker')"
   ]
  },
  {
   "cell_type": "markdown",
   "metadata": {
    "id": "ZW9NxWoqcaCv"
   },
   "source": [
    "Jika kedua plot sebelumnya digabung maka akan menghasilkan visualisasi seperti dibawah, yang memberikan kejelasan bahwa biaya yang dikeluarkan oleh pasien dapat dipangkas jika pasien tersebut tidak merokok."
   ]
  },
  {
   "cell_type": "code",
   "execution_count": 8,
   "metadata": {
    "colab": {
     "base_uri": "https://localhost:8080/",
     "height": 401
    },
    "id": "mhHGa_4kcFq1",
    "outputId": "fa54a5ce-a2a7-4e6f-fe5f-f48dd296d6d3"
   },
   "outputs": [
    {
     "data": {
      "text/plain": [
       "<seaborn.axisgrid.FacetGrid at 0x7fb016176450>"
      ]
     },
     "execution_count": 8,
     "metadata": {
      "tags": []
     },
     "output_type": "execute_result"
    },
    {
     "data": {
      "image/png": "[encoded data removed]",
      "text/plain": [
       "<Figure size 413.25x360 with 1 Axes>"
      ]
     },
     "metadata": {
      "needs_background": "light",
      "tags": []
     },
     "output_type": "display_data"
    }
   ],
   "source": [
    "sns.catplot(data=df, x='age', y='charges', palette='mako', hue='smoker')"
   ]
  },
  {
   "cell_type": "markdown",
   "metadata": {
    "id": "e-VBTePmggn6"
   },
   "source": [
    "Kemudian distribusi bmi terhadap biaya medis adalah sebagai berikut"
   ]
  },
  {
   "cell_type": "code",
   "execution_count": 9,
   "metadata": {
    "colab": {
     "base_uri": "https://localhost:8080/",
     "height": 386
    },
    "id": "z6mcCWeIRRrE",
    "outputId": "7c506bc4-15d7-41d0-97bd-a4028c4113cd"
   },
   "outputs": [
    {
     "data": {
      "text/plain": [
       "<seaborn.axisgrid.FacetGrid at 0x7fb0238b60d0>"
      ]
     },
     "execution_count": 9,
     "metadata": {
      "tags": []
     },
     "output_type": "execute_result"
    },
    {
     "data": {
      "image/png": "[encoded data removed]",
      "text/plain": [
       "<Figure size 773.25x360 with 1 Axes>"
      ]
     },
     "metadata": {
      "needs_background": "light",
      "tags": []
     },
     "output_type": "display_data"
    }
   ],
   "source": [
    "sns.displot(data=df, x='bmi', palette='mako', height=5, aspect=2, kde=True, hue='smoker')"
   ]
  },
  {
   "cell_type": "markdown",
   "metadata": {
    "id": "VOLY7OCIgzcN"
   },
   "source": [
    "Persebaran region atau wilayah tempat tinggal dari pasien"
   ]
  },
  {
   "cell_type": "code",
   "execution_count": 10,
   "metadata": {
    "colab": {
     "base_uri": "https://localhost:8080/",
     "height": 386
    },
    "id": "vtK_dYl6gsM6",
    "outputId": "82a3aa38-66b6-4925-eba9-a1c2a745c5f1"
   },
   "outputs": [
    {
     "data": {
      "text/plain": [
       "<seaborn.axisgrid.FacetGrid at 0x7fb011005210>"
      ]
     },
     "execution_count": 10,
     "metadata": {
      "tags": []
     },
     "output_type": "execute_result"
    },
    {
     "data": {
      "image/png": "[encoded data removed]",
      "text/plain": [
       "<Figure size 447.25x360 with 1 Axes>"
      ]
     },
     "metadata": {
      "needs_background": "light",
      "tags": []
     },
     "output_type": "display_data"
    }
   ],
   "source": [
    "sns.displot(data=df, x='charges', palette='flare',kind='kde', hue='region')"
   ]
  },
  {
   "cell_type": "markdown",
   "metadata": {
    "id": "RY6CuEpWh-dx"
   },
   "source": [
    "Dari plot diatas, terlihat bahwa wilayah tempat pasien tinggal hanya sedikit berpengaruh terhadap biaya yang dikeluarkan selama perawatan. Perbedaan yang jelas terlihat pada rentang 30rb sampai 50rb."
   ]
  },
  {
   "cell_type": "code",
   "execution_count": 11,
   "metadata": {
    "colab": {
     "base_uri": "https://localhost:8080/",
     "height": 386
    },
    "id": "CeYvJ_m9iWve",
    "outputId": "552040d8-7c61-4ca8-9b16-8952ee73b6fa"
   },
   "outputs": [
    {
     "data": {
      "text/plain": [
       "<seaborn.axisgrid.FacetGrid at 0x7fb010eb0dd0>"
      ]
     },
     "execution_count": 11,
     "metadata": {
      "tags": []
     },
     "output_type": "execute_result"
    },
    {
     "data": {
      "image/png": "[encoded data removed]",
      "text/plain": [
       "<Figure size 447.25x360 with 1 Axes>"
      ]
     },
     "metadata": {
      "needs_background": "light",
      "tags": []
     },
     "output_type": "display_data"
    }
   ],
   "source": [
    "dfs = df[(df.charges>30000)]\n",
    "dfs = dfs[(dfs.charges<50000)]\n",
    "sns.displot(data=dfs, x='charges', palette='flare',kind='kde', hue='region')"
   ]
  },
  {
   "cell_type": "markdown",
   "metadata": {
    "id": "-PNB9vWDKoCr"
   },
   "source": [
    "**Distribusi umur berdasarkan gender**\n",
    "\n",
    "Pada range usia muda sampai dewasa, jumlah laki-laki lebih unggul. Sedangkan pada range usia lanjut, terlihat jumlah perempuan yang lebih banyak. Juga data terbanyak diperoleh dari rentang usia 18 sampai usia kurang dari 30."
   ]
  },
  {
   "cell_type": "code",
   "execution_count": 12,
   "metadata": {
    "colab": {
     "base_uri": "https://localhost:8080/",
     "height": 386
    },
    "id": "5WWBfx7CIUHq",
    "outputId": "ddeb24a2-7019-4421-f235-aa0aeef463f8"
   },
   "outputs": [
    {
     "data": {
      "text/plain": [
       "<seaborn.axisgrid.FacetGrid at 0x7fb010eb26d0>"
      ]
     },
     "execution_count": 12,
     "metadata": {
      "tags": []
     },
     "output_type": "execute_result"
    },
    {
     "data": {
      "image/png": "[encoded data removed]",
      "text/plain": [
       "<Figure size 430.5x360 with 1 Axes>"
      ]
     },
     "metadata": {
      "needs_background": "light",
      "tags": []
     },
     "output_type": "display_data"
    }
   ],
   "source": [
    "sns.displot(x='age', hue = 'sex', palette='mako', data=df)"
   ]
  },
  {
   "cell_type": "markdown",
   "metadata": {
    "id": "RVg1yQm3NSzU"
   },
   "source": [
    "**Distribusi kepemilikan anak berdasarkan region dan pengaruhnya terhadap biaya**"
   ]
  },
  {
   "cell_type": "code",
   "execution_count": 13,
   "metadata": {
    "colab": {
     "base_uri": "https://localhost:8080/",
     "height": 386
    },
    "id": "q82g85cSjviO",
    "outputId": "856cdee3-140a-4339-dbf8-d11f5c10af1d"
   },
   "outputs": [
    {
     "data": {
      "text/plain": [
       "<seaborn.axisgrid.FacetGrid at 0x7fb010d7a6d0>"
      ]
     },
     "execution_count": 13,
     "metadata": {
      "tags": []
     },
     "output_type": "execute_result"
    },
    {
     "data": {
      "image/png": "[encoded data removed]",
      "text/plain": [
       "<Figure size 360x360 with 1 Axes>"
      ]
     },
     "metadata": {
      "needs_background": "light",
      "tags": []
     },
     "output_type": "display_data"
    }
   ],
   "source": [
    "sns.displot(data=df, y='children', x='region', palette='mako')"
   ]
  },
  {
   "cell_type": "markdown",
   "metadata": {
    "id": "7r0A0h57krDX"
   },
   "source": [
    "Visualisasi berikutnya adalah pengaruh jumlah anak terhadap biaya, terlihat pula keduanya tidak terlalu berkorelasi"
   ]
  },
  {
   "cell_type": "code",
   "execution_count": 14,
   "metadata": {
    "colab": {
     "base_uri": "https://localhost:8080/",
     "height": 531
    },
    "id": "-I2dypTgk9gX",
    "outputId": "24ad7471-2089-469c-a6eb-05406b48e97e"
   },
   "outputs": [
    {
     "data": {
      "text/plain": [
       "<seaborn.axisgrid.FacetGrid at 0x7fb010cc6b50>"
      ]
     },
     "execution_count": 14,
     "metadata": {
      "tags": []
     },
     "output_type": "execute_result"
    },
    {
     "data": {
      "image/png": "[encoded data removed]",
      "text/plain": [
       "<Figure size 1056.38x504 with 1 Axes>"
      ]
     },
     "metadata": {
      "needs_background": "light",
      "tags": []
     },
     "output_type": "display_data"
    }
   ],
   "source": [
    "sns.displot(data=df, x=\"charges\", hue=\"children\", height=7, aspect=2, element='step', palette='flare')"
   ]
  },
  {
   "cell_type": "markdown",
   "metadata": {
    "id": "VRYgamzYA7zX"
   },
   "source": [
    "#Data Preprocessing"
   ]
  },
  {
   "cell_type": "markdown",
   "metadata": {
    "id": "G8kDOOPi9nkI"
   },
   "source": [
    "**Encoding**\n",
    "\n",
    "Dilakukan untuk merubah fitur independen ke dalam bentuk numerik"
   ]
  },
  {
   "cell_type": "code",
   "execution_count": 15,
   "metadata": {
    "colab": {
     "base_uri": "https://localhost:8080/"
    },
    "id": "EsQ6wsX59nka",
    "outputId": "6060aabd-4f76-4b08-f9d2-b636645d2bb5"
   },
   "outputs": [
    {
     "name": "stdout",
     "output_type": "stream",
     "text": [
      "<class 'pandas.core.frame.DataFrame'>\n",
      "RangeIndex: 1338 entries, 0 to 1337\n",
      "Data columns (total 7 columns):\n",
      " #   Column    Non-Null Count  Dtype  \n",
      "---  ------    --------------  -----  \n",
      " 0   age       1338 non-null   int64  \n",
      " 1   sex       1338 non-null   object \n",
      " 2   bmi       1338 non-null   float64\n",
      " 3   children  1338 non-null   int64  \n",
      " 4   smoker    1338 non-null   object \n",
      " 5   region    1338 non-null   object \n",
      " 6   charges   1338 non-null   float64\n",
      "dtypes: float64(2), int64(2), object(3)\n",
      "memory usage: 73.3+ KB\n"
     ]
    }
   ],
   "source": [
    "le = preprocessing.LabelEncoder()\n",
    "df.info()"
   ]
  },
  {
   "cell_type": "markdown",
   "metadata": {
    "id": "Nzv20yMR9nkb"
   },
   "source": [
    "- **Sex/jenis kelamin**"
   ]
  },
  {
   "cell_type": "code",
   "execution_count": 16,
   "metadata": {
    "colab": {
     "base_uri": "https://localhost:8080/"
    },
    "id": "WoKlN4qe9nkb",
    "outputId": "7a364947-a54c-450a-d9a4-bbec6c6ba483"
   },
   "outputs": [
    {
     "data": {
      "text/plain": [
       "male      676\n",
       "female    662\n",
       "Name: sex, dtype: int64"
      ]
     },
     "execution_count": 16,
     "metadata": {
      "tags": []
     },
     "output_type": "execute_result"
    }
   ],
   "source": [
    "df['sex'].value_counts()"
   ]
  },
  {
   "cell_type": "code",
   "execution_count": 17,
   "metadata": {
    "colab": {
     "base_uri": "https://localhost:8080/",
     "height": 406
    },
    "id": "mBgTCByU9nkc",
    "outputId": "286f6d67-52fb-45bd-e86f-879631b68b73"
   },
   "outputs": [
    {
     "data": {
      "text/html": [
       "<div>\n",
       "<style scoped>\n",
       "    .dataframe tbody tr th:only-of-type {\n",
       "        vertical-align: middle;\n",
       "    }\n",
       "\n",
       "    .dataframe tbody tr th {\n",
       "        vertical-align: top;\n",
       "    }\n",
       "\n",
       "    .dataframe thead th {\n",
       "        text-align: right;\n",
       "    }\n",
       "</style>\n",
       "<table border=\"1\" class=\"dataframe\">\n",
       "  <thead>\n",
       "    <tr style=\"text-align: right;\">\n",
       "      <th></th>\n",
       "      <th>age</th>\n",
       "      <th>bmi</th>\n",
       "      <th>children</th>\n",
       "      <th>smoker</th>\n",
       "      <th>region</th>\n",
       "      <th>charges</th>\n",
       "      <th>sex_female</th>\n",
       "      <th>sex_male</th>\n",
       "    </tr>\n",
       "  </thead>\n",
       "  <tbody>\n",
       "    <tr>\n",
       "      <th>0</th>\n",
       "      <td>19</td>\n",
       "      <td>27.900</td>\n",
       "      <td>0</td>\n",
       "      <td>yes</td>\n",
       "      <td>southwest</td>\n",
       "      <td>16884.92400</td>\n",
       "      <td>1</td>\n",
       "      <td>0</td>\n",
       "    </tr>\n",
       "    <tr>\n",
       "      <th>1</th>\n",
       "      <td>18</td>\n",
       "      <td>33.770</td>\n",
       "      <td>1</td>\n",
       "      <td>no</td>\n",
       "      <td>southeast</td>\n",
       "      <td>1725.55230</td>\n",
       "      <td>0</td>\n",
       "      <td>1</td>\n",
       "    </tr>\n",
       "    <tr>\n",
       "      <th>2</th>\n",
       "      <td>28</td>\n",
       "      <td>33.000</td>\n",
       "      <td>3</td>\n",
       "      <td>no</td>\n",
       "      <td>southeast</td>\n",
       "      <td>4449.46200</td>\n",
       "      <td>0</td>\n",
       "      <td>1</td>\n",
       "    </tr>\n",
       "    <tr>\n",
       "      <th>3</th>\n",
       "      <td>33</td>\n",
       "      <td>22.705</td>\n",
       "      <td>0</td>\n",
       "      <td>no</td>\n",
       "      <td>northwest</td>\n",
       "      <td>21984.47061</td>\n",
       "      <td>0</td>\n",
       "      <td>1</td>\n",
       "    </tr>\n",
       "    <tr>\n",
       "      <th>4</th>\n",
       "      <td>32</td>\n",
       "      <td>28.880</td>\n",
       "      <td>0</td>\n",
       "      <td>no</td>\n",
       "      <td>northwest</td>\n",
       "      <td>3866.85520</td>\n",
       "      <td>0</td>\n",
       "      <td>1</td>\n",
       "    </tr>\n",
       "    <tr>\n",
       "      <th>...</th>\n",
       "      <td>...</td>\n",
       "      <td>...</td>\n",
       "      <td>...</td>\n",
       "      <td>...</td>\n",
       "      <td>...</td>\n",
       "      <td>...</td>\n",
       "      <td>...</td>\n",
       "      <td>...</td>\n",
       "    </tr>\n",
       "    <tr>\n",
       "      <th>1333</th>\n",
       "      <td>50</td>\n",
       "      <td>30.970</td>\n",
       "      <td>3</td>\n",
       "      <td>no</td>\n",
       "      <td>northwest</td>\n",
       "      <td>10600.54830</td>\n",
       "      <td>0</td>\n",
       "      <td>1</td>\n",
       "    </tr>\n",
       "    <tr>\n",
       "      <th>1334</th>\n",
       "      <td>18</td>\n",
       "      <td>31.920</td>\n",
       "      <td>0</td>\n",
       "      <td>no</td>\n",
       "      <td>northeast</td>\n",
       "      <td>2205.98080</td>\n",
       "      <td>1</td>\n",
       "      <td>0</td>\n",
       "    </tr>\n",
       "    <tr>\n",
       "      <th>1335</th>\n",
       "      <td>18</td>\n",
       "      <td>36.850</td>\n",
       "      <td>0</td>\n",
       "      <td>no</td>\n",
       "      <td>southeast</td>\n",
       "      <td>1629.83350</td>\n",
       "      <td>1</td>\n",
       "      <td>0</td>\n",
       "    </tr>\n",
       "    <tr>\n",
       "      <th>1336</th>\n",
       "      <td>21</td>\n",
       "      <td>25.800</td>\n",
       "      <td>0</td>\n",
       "      <td>no</td>\n",
       "      <td>southwest</td>\n",
       "      <td>2007.94500</td>\n",
       "      <td>1</td>\n",
       "      <td>0</td>\n",
       "    </tr>\n",
       "    <tr>\n",
       "      <th>1337</th>\n",
       "      <td>61</td>\n",
       "      <td>29.070</td>\n",
       "      <td>0</td>\n",
       "      <td>yes</td>\n",
       "      <td>northwest</td>\n",
       "      <td>29141.36030</td>\n",
       "      <td>1</td>\n",
       "      <td>0</td>\n",
       "    </tr>\n",
       "  </tbody>\n",
       "</table>\n",
       "<p>1338 rows × 8 columns</p>\n",
       "</div>"
      ],
      "text/plain": [
       "      age     bmi  children  ...      charges sex_female  sex_male\n",
       "0      19  27.900         0  ...  16884.92400          1         0\n",
       "1      18  33.770         1  ...   1725.55230          0         1\n",
       "2      28  33.000         3  ...   4449.46200          0         1\n",
       "3      33  22.705         0  ...  21984.47061          0         1\n",
       "4      32  28.880         0  ...   3866.85520          0         1\n",
       "...   ...     ...       ...  ...          ...        ...       ...\n",
       "1333   50  30.970         3  ...  10600.54830          0         1\n",
       "1334   18  31.920         0  ...   2205.98080          1         0\n",
       "1335   18  36.850         0  ...   1629.83350          1         0\n",
       "1336   21  25.800         0  ...   2007.94500          1         0\n",
       "1337   61  29.070         0  ...  29141.36030          1         0\n",
       "\n",
       "[1338 rows x 8 columns]"
      ]
     },
     "execution_count": 17,
     "metadata": {
      "tags": []
     },
     "output_type": "execute_result"
    }
   ],
   "source": [
    "dfn = pd.get_dummies(df, columns=['sex'])\n",
    "dfn"
   ]
  },
  {
   "cell_type": "markdown",
   "metadata": {
    "id": "KsnOHsKz94zZ"
   },
   "source": [
    "- **Smoker/perokok**\n"
   ]
  },
  {
   "cell_type": "code",
   "execution_count": 18,
   "metadata": {
    "colab": {
     "base_uri": "https://localhost:8080/"
    },
    "id": "ZmyX5SBF94za",
    "outputId": "6ad51e9f-d39f-4c87-de4f-8b64c9eed30a"
   },
   "outputs": [
    {
     "data": {
      "text/plain": [
       "no     1064\n",
       "yes     274\n",
       "Name: smoker, dtype: int64"
      ]
     },
     "execution_count": 18,
     "metadata": {
      "tags": []
     },
     "output_type": "execute_result"
    }
   ],
   "source": [
    "df['smoker'].value_counts()"
   ]
  },
  {
   "cell_type": "code",
   "execution_count": 19,
   "metadata": {
    "colab": {
     "base_uri": "https://localhost:8080/",
     "height": 406
    },
    "id": "z7vYdJXa94zb",
    "outputId": "c9112445-e26e-4b90-d249-093d494a0b06"
   },
   "outputs": [
    {
     "data": {
      "text/html": [
       "<div>\n",
       "<style scoped>\n",
       "    .dataframe tbody tr th:only-of-type {\n",
       "        vertical-align: middle;\n",
       "    }\n",
       "\n",
       "    .dataframe tbody tr th {\n",
       "        vertical-align: top;\n",
       "    }\n",
       "\n",
       "    .dataframe thead th {\n",
       "        text-align: right;\n",
       "    }\n",
       "</style>\n",
       "<table border=\"1\" class=\"dataframe\">\n",
       "  <thead>\n",
       "    <tr style=\"text-align: right;\">\n",
       "      <th></th>\n",
       "      <th>age</th>\n",
       "      <th>bmi</th>\n",
       "      <th>children</th>\n",
       "      <th>region</th>\n",
       "      <th>charges</th>\n",
       "      <th>sex_female</th>\n",
       "      <th>sex_male</th>\n",
       "      <th>smoker_no</th>\n",
       "      <th>smoker_yes</th>\n",
       "    </tr>\n",
       "  </thead>\n",
       "  <tbody>\n",
       "    <tr>\n",
       "      <th>0</th>\n",
       "      <td>19</td>\n",
       "      <td>27.900</td>\n",
       "      <td>0</td>\n",
       "      <td>southwest</td>\n",
       "      <td>16884.92400</td>\n",
       "      <td>1</td>\n",
       "      <td>0</td>\n",
       "      <td>0</td>\n",
       "      <td>1</td>\n",
       "    </tr>\n",
       "    <tr>\n",
       "      <th>1</th>\n",
       "      <td>18</td>\n",
       "      <td>33.770</td>\n",
       "      <td>1</td>\n",
       "      <td>southeast</td>\n",
       "      <td>1725.55230</td>\n",
       "      <td>0</td>\n",
       "      <td>1</td>\n",
       "      <td>1</td>\n",
       "      <td>0</td>\n",
       "    </tr>\n",
       "    <tr>\n",
       "      <th>2</th>\n",
       "      <td>28</td>\n",
       "      <td>33.000</td>\n",
       "      <td>3</td>\n",
       "      <td>southeast</td>\n",
       "      <td>4449.46200</td>\n",
       "      <td>0</td>\n",
       "      <td>1</td>\n",
       "      <td>1</td>\n",
       "      <td>0</td>\n",
       "    </tr>\n",
       "    <tr>\n",
       "      <th>3</th>\n",
       "      <td>33</td>\n",
       "      <td>22.705</td>\n",
       "      <td>0</td>\n",
       "      <td>northwest</td>\n",
       "      <td>21984.47061</td>\n",
       "      <td>0</td>\n",
       "      <td>1</td>\n",
       "      <td>1</td>\n",
       "      <td>0</td>\n",
       "    </tr>\n",
       "    <tr>\n",
       "      <th>4</th>\n",
       "      <td>32</td>\n",
       "      <td>28.880</td>\n",
       "      <td>0</td>\n",
       "      <td>northwest</td>\n",
       "      <td>3866.85520</td>\n",
       "      <td>0</td>\n",
       "      <td>1</td>\n",
       "      <td>1</td>\n",
       "      <td>0</td>\n",
       "    </tr>\n",
       "    <tr>\n",
       "      <th>...</th>\n",
       "      <td>...</td>\n",
       "      <td>...</td>\n",
       "      <td>...</td>\n",
       "      <td>...</td>\n",
       "      <td>...</td>\n",
       "      <td>...</td>\n",
       "      <td>...</td>\n",
       "      <td>...</td>\n",
       "      <td>...</td>\n",
       "    </tr>\n",
       "    <tr>\n",
       "      <th>1333</th>\n",
       "      <td>50</td>\n",
       "      <td>30.970</td>\n",
       "      <td>3</td>\n",
       "      <td>northwest</td>\n",
       "      <td>10600.54830</td>\n",
       "      <td>0</td>\n",
       "      <td>1</td>\n",
       "      <td>1</td>\n",
       "      <td>0</td>\n",
       "    </tr>\n",
       "    <tr>\n",
       "      <th>1334</th>\n",
       "      <td>18</td>\n",
       "      <td>31.920</td>\n",
       "      <td>0</td>\n",
       "      <td>northeast</td>\n",
       "      <td>2205.98080</td>\n",
       "      <td>1</td>\n",
       "      <td>0</td>\n",
       "      <td>1</td>\n",
       "      <td>0</td>\n",
       "    </tr>\n",
       "    <tr>\n",
       "      <th>1335</th>\n",
       "      <td>18</td>\n",
       "      <td>36.850</td>\n",
       "      <td>0</td>\n",
       "      <td>southeast</td>\n",
       "      <td>1629.83350</td>\n",
       "      <td>1</td>\n",
       "      <td>0</td>\n",
       "      <td>1</td>\n",
       "      <td>0</td>\n",
       "    </tr>\n",
       "    <tr>\n",
       "      <th>1336</th>\n",
       "      <td>21</td>\n",
       "      <td>25.800</td>\n",
       "      <td>0</td>\n",
       "      <td>southwest</td>\n",
       "      <td>2007.94500</td>\n",
       "      <td>1</td>\n",
       "      <td>0</td>\n",
       "      <td>1</td>\n",
       "      <td>0</td>\n",
       "    </tr>\n",
       "    <tr>\n",
       "      <th>1337</th>\n",
       "      <td>61</td>\n",
       "      <td>29.070</td>\n",
       "      <td>0</td>\n",
       "      <td>northwest</td>\n",
       "      <td>29141.36030</td>\n",
       "      <td>1</td>\n",
       "      <td>0</td>\n",
       "      <td>0</td>\n",
       "      <td>1</td>\n",
       "    </tr>\n",
       "  </tbody>\n",
       "</table>\n",
       "<p>1338 rows × 9 columns</p>\n",
       "</div>"
      ],
      "text/plain": [
       "      age     bmi  children  ... sex_male  smoker_no  smoker_yes\n",
       "0      19  27.900         0  ...        0          0           1\n",
       "1      18  33.770         1  ...        1          1           0\n",
       "2      28  33.000         3  ...        1          1           0\n",
       "3      33  22.705         0  ...        1          1           0\n",
       "4      32  28.880         0  ...        1          1           0\n",
       "...   ...     ...       ...  ...      ...        ...         ...\n",
       "1333   50  30.970         3  ...        1          1           0\n",
       "1334   18  31.920         0  ...        0          1           0\n",
       "1335   18  36.850         0  ...        0          1           0\n",
       "1336   21  25.800         0  ...        0          1           0\n",
       "1337   61  29.070         0  ...        0          0           1\n",
       "\n",
       "[1338 rows x 9 columns]"
      ]
     },
     "execution_count": 19,
     "metadata": {
      "tags": []
     },
     "output_type": "execute_result"
    }
   ],
   "source": [
    "dfm = pd.get_dummies(dfn, columns=['smoker'])\n",
    "dfm"
   ]
  },
  {
   "cell_type": "markdown",
   "metadata": {
    "id": "-v8rCQeB-Run"
   },
   "source": [
    "- **Region/wilayah tempat tinggal**"
   ]
  },
  {
   "cell_type": "code",
   "execution_count": 20,
   "metadata": {
    "colab": {
     "base_uri": "https://localhost:8080/"
    },
    "id": "K6mKiQC3-Zys",
    "outputId": "f2f19273-3af6-4c75-a2e0-efdaaacd4c6e"
   },
   "outputs": [
    {
     "data": {
      "text/plain": [
       "southeast    364\n",
       "southwest    325\n",
       "northwest    325\n",
       "northeast    324\n",
       "Name: region, dtype: int64"
      ]
     },
     "execution_count": 20,
     "metadata": {
      "tags": []
     },
     "output_type": "execute_result"
    }
   ],
   "source": [
    "df['region'].value_counts()"
   ]
  },
  {
   "cell_type": "code",
   "execution_count": 21,
   "metadata": {
    "colab": {
     "base_uri": "https://localhost:8080/",
     "height": 406
    },
    "id": "xa8G2tBy-Gy0",
    "outputId": "87a34125-e82b-4125-9547-4bab63fbf6b5"
   },
   "outputs": [
    {
     "data": {
      "text/html": [
       "<div>\n",
       "<style scoped>\n",
       "    .dataframe tbody tr th:only-of-type {\n",
       "        vertical-align: middle;\n",
       "    }\n",
       "\n",
       "    .dataframe tbody tr th {\n",
       "        vertical-align: top;\n",
       "    }\n",
       "\n",
       "    .dataframe thead th {\n",
       "        text-align: right;\n",
       "    }\n",
       "</style>\n",
       "<table border=\"1\" class=\"dataframe\">\n",
       "  <thead>\n",
       "    <tr style=\"text-align: right;\">\n",
       "      <th></th>\n",
       "      <th>age</th>\n",
       "      <th>bmi</th>\n",
       "      <th>children</th>\n",
       "      <th>region</th>\n",
       "      <th>charges</th>\n",
       "      <th>sex_female</th>\n",
       "      <th>sex_male</th>\n",
       "      <th>smoker_no</th>\n",
       "      <th>smoker_yes</th>\n",
       "    </tr>\n",
       "  </thead>\n",
       "  <tbody>\n",
       "    <tr>\n",
       "      <th>0</th>\n",
       "      <td>19</td>\n",
       "      <td>27.900</td>\n",
       "      <td>0</td>\n",
       "      <td>3</td>\n",
       "      <td>16884.92400</td>\n",
       "      <td>1</td>\n",
       "      <td>0</td>\n",
       "      <td>0</td>\n",
       "      <td>1</td>\n",
       "    </tr>\n",
       "    <tr>\n",
       "      <th>1</th>\n",
       "      <td>18</td>\n",
       "      <td>33.770</td>\n",
       "      <td>1</td>\n",
       "      <td>2</td>\n",
       "      <td>1725.55230</td>\n",
       "      <td>0</td>\n",
       "      <td>1</td>\n",
       "      <td>1</td>\n",
       "      <td>0</td>\n",
       "    </tr>\n",
       "    <tr>\n",
       "      <th>2</th>\n",
       "      <td>28</td>\n",
       "      <td>33.000</td>\n",
       "      <td>3</td>\n",
       "      <td>2</td>\n",
       "      <td>4449.46200</td>\n",
       "      <td>0</td>\n",
       "      <td>1</td>\n",
       "      <td>1</td>\n",
       "      <td>0</td>\n",
       "    </tr>\n",
       "    <tr>\n",
       "      <th>3</th>\n",
       "      <td>33</td>\n",
       "      <td>22.705</td>\n",
       "      <td>0</td>\n",
       "      <td>1</td>\n",
       "      <td>21984.47061</td>\n",
       "      <td>0</td>\n",
       "      <td>1</td>\n",
       "      <td>1</td>\n",
       "      <td>0</td>\n",
       "    </tr>\n",
       "    <tr>\n",
       "      <th>4</th>\n",
       "      <td>32</td>\n",
       "      <td>28.880</td>\n",
       "      <td>0</td>\n",
       "      <td>1</td>\n",
       "      <td>3866.85520</td>\n",
       "      <td>0</td>\n",
       "      <td>1</td>\n",
       "      <td>1</td>\n",
       "      <td>0</td>\n",
       "    </tr>\n",
       "    <tr>\n",
       "      <th>...</th>\n",
       "      <td>...</td>\n",
       "      <td>...</td>\n",
       "      <td>...</td>\n",
       "      <td>...</td>\n",
       "      <td>...</td>\n",
       "      <td>...</td>\n",
       "      <td>...</td>\n",
       "      <td>...</td>\n",
       "      <td>...</td>\n",
       "    </tr>\n",
       "    <tr>\n",
       "      <th>1333</th>\n",
       "      <td>50</td>\n",
       "      <td>30.970</td>\n",
       "      <td>3</td>\n",
       "      <td>1</td>\n",
       "      <td>10600.54830</td>\n",
       "      <td>0</td>\n",
       "      <td>1</td>\n",
       "      <td>1</td>\n",
       "      <td>0</td>\n",
       "    </tr>\n",
       "    <tr>\n",
       "      <th>1334</th>\n",
       "      <td>18</td>\n",
       "      <td>31.920</td>\n",
       "      <td>0</td>\n",
       "      <td>0</td>\n",
       "      <td>2205.98080</td>\n",
       "      <td>1</td>\n",
       "      <td>0</td>\n",
       "      <td>1</td>\n",
       "      <td>0</td>\n",
       "    </tr>\n",
       "    <tr>\n",
       "      <th>1335</th>\n",
       "      <td>18</td>\n",
       "      <td>36.850</td>\n",
       "      <td>0</td>\n",
       "      <td>2</td>\n",
       "      <td>1629.83350</td>\n",
       "      <td>1</td>\n",
       "      <td>0</td>\n",
       "      <td>1</td>\n",
       "      <td>0</td>\n",
       "    </tr>\n",
       "    <tr>\n",
       "      <th>1336</th>\n",
       "      <td>21</td>\n",
       "      <td>25.800</td>\n",
       "      <td>0</td>\n",
       "      <td>3</td>\n",
       "      <td>2007.94500</td>\n",
       "      <td>1</td>\n",
       "      <td>0</td>\n",
       "      <td>1</td>\n",
       "      <td>0</td>\n",
       "    </tr>\n",
       "    <tr>\n",
       "      <th>1337</th>\n",
       "      <td>61</td>\n",
       "      <td>29.070</td>\n",
       "      <td>0</td>\n",
       "      <td>1</td>\n",
       "      <td>29141.36030</td>\n",
       "      <td>1</td>\n",
       "      <td>0</td>\n",
       "      <td>0</td>\n",
       "      <td>1</td>\n",
       "    </tr>\n",
       "  </tbody>\n",
       "</table>\n",
       "<p>1338 rows × 9 columns</p>\n",
       "</div>"
      ],
      "text/plain": [
       "      age     bmi  children  ...  sex_male  smoker_no  smoker_yes\n",
       "0      19  27.900         0  ...         0          0           1\n",
       "1      18  33.770         1  ...         1          1           0\n",
       "2      28  33.000         3  ...         1          1           0\n",
       "3      33  22.705         0  ...         1          1           0\n",
       "4      32  28.880         0  ...         1          1           0\n",
       "...   ...     ...       ...  ...       ...        ...         ...\n",
       "1333   50  30.970         3  ...         1          1           0\n",
       "1334   18  31.920         0  ...         0          1           0\n",
       "1335   18  36.850         0  ...         0          1           0\n",
       "1336   21  25.800         0  ...         0          1           0\n",
       "1337   61  29.070         0  ...         0          0           1\n",
       "\n",
       "[1338 rows x 9 columns]"
      ]
     },
     "execution_count": 21,
     "metadata": {
      "tags": []
     },
     "output_type": "execute_result"
    }
   ],
   "source": [
    "dfm['region']= le.fit_transform(dfm['region'])\n",
    "dfm"
   ]
  },
  {
   "cell_type": "markdown",
   "metadata": {
    "id": "WmeCwoCI4n4d"
   },
   "source": [
    "**Pembagian dataset**\n",
    "\n",
    "Menjadi 2 bagian: x (kumpulan variabel independen) dan y (variabel dependen)"
   ]
  },
  {
   "cell_type": "code",
   "execution_count": 22,
   "metadata": {
    "id": "0xaKplYN5zKE"
   },
   "outputs": [],
   "source": [
    "scaler = StandardScaler()"
   ]
  },
  {
   "cell_type": "code",
   "execution_count": 23,
   "metadata": {
    "id": "BG0KcRxTw5v7"
   },
   "outputs": [],
   "source": [
    "x = dfm[['age', 'bmi', 'children', 'region', 'sex_female', 'sex_male', 'smoker_no', 'smoker_yes']]\n",
    "y = dfm[['charges']]"
   ]
  },
  {
   "cell_type": "markdown",
   "metadata": {
    "id": "yXuyHZHQ3Wif"
   },
   "source": [
    "**Train-Dev/Validation-Test split**\n",
    "\n",
    "Dengan ketentuan\n",
    "- Data test adalah 10% dari data awal\n",
    "- Data train adalah 90% dari data awal\n",
    "- Data train dikurang sebesar 20% untuk dijadikan data validasi/dev"
   ]
  },
  {
   "cell_type": "code",
   "execution_count": 24,
   "metadata": {
    "id": "IyiCuuKD3WCU"
   },
   "outputs": [],
   "source": [
    "x_train, x_test, y_train, y_test = train_test_split(x, y, test_size=0.10, random_state=42)\n",
    "x_train, x_dev, y_train, y_dev = train_test_split(x_train, y_train, test_size=0.20, random_state=42)"
   ]
  },
  {
   "cell_type": "code",
   "execution_count": 25,
   "metadata": {
    "colab": {
     "base_uri": "https://localhost:8080/"
    },
    "id": "H_U7lqCi6bhA",
    "outputId": "e869c882-26cf-402b-dcac-24332acb6018"
   },
   "outputs": [
    {
     "name": "stdout",
     "output_type": "stream",
     "text": [
      "train {(963, 8)} {(963, 1)}\n",
      "dev {(241, 8)} {(241, 1)}\n",
      "test {(134, 8)} {(134, 1)}\n"
     ]
    }
   ],
   "source": [
    "print(\"train\",{x_train.shape},{y_train.shape})\n",
    "print(\"dev\", {x_dev.shape},{y_dev.shape})\n",
    "print(\"test\", {x_test.shape},{y_test.shape})"
   ]
  },
  {
   "cell_type": "markdown",
   "metadata": {
    "id": "JZIUgyHC61BH"
   },
   "source": [
    "**Standarisasi variabel**\n",
    "\n",
    "Penerapan standarisasi pada seluruh variabel independen, hal ini dilakukan agar nilai dengan tipe data kategorik dapat dijadikan parameter regresi nantinya."
   ]
  },
  {
   "cell_type": "code",
   "execution_count": 26,
   "metadata": {
    "id": "dXxYWGU--47P"
   },
   "outputs": [],
   "source": [
    "# x_train = scaler.fit_transform(x_train)\n",
    "# x_dev = scaler.fit_transform(x_dev)\n",
    "# x_test = scaler.fit_transform(x_test)"
   ]
  },
  {
   "cell_type": "markdown",
   "metadata": {
    "id": "3QHkr4pLA-Sd"
   },
   "source": [
    "#Model Definition"
   ]
  },
  {
   "cell_type": "markdown",
   "metadata": {
    "id": "vuLZljY85NFb"
   },
   "source": [
    "Arsitektur model regresi yang akan digunakan adalah Random Forest Regression. Pemilihan model ini didasari oleh beberapa hal, diantaranya:\n",
    "- Jumlah feature tidak banyak\n",
    "- Data tidak selamanya linear\n",
    "- Random Forest tidak butuh transformasi lebih lanjut seperti log transformation\n",
    "- Bisa digunakan tanpa menghilangkan outlier"
   ]
  },
  {
   "cell_type": "markdown",
   "metadata": {
    "id": "81Xj23288DVN"
   },
   "source": [
    "Berikut ini adalah model RF Regressor biasa dan parameternya"
   ]
  },
  {
   "cell_type": "code",
   "execution_count": 27,
   "metadata": {
    "colab": {
     "base_uri": "https://localhost:8080/"
    },
    "id": "ulUwwcUkEbVf",
    "outputId": "fa363f86-c806-4246-9d1e-97a957d9a3bb"
   },
   "outputs": [
    {
     "name": "stdout",
     "output_type": "stream",
     "text": [
      "{'bootstrap': True,\n",
      " 'ccp_alpha': 0.0,\n",
      " 'criterion': 'mse',\n",
      " 'max_depth': None,\n",
      " 'max_features': 'auto',\n",
      " 'max_leaf_nodes': None,\n",
      " 'max_samples': None,\n",
      " 'min_impurity_decrease': 0.0,\n",
      " 'min_impurity_split': None,\n",
      " 'min_samples_leaf': 1,\n",
      " 'min_samples_split': 2,\n",
      " 'min_weight_fraction_leaf': 0.0,\n",
      " 'n_estimators': 10,\n",
      " 'n_jobs': None,\n",
      " 'oob_score': False,\n",
      " 'random_state': 42,\n",
      " 'verbose': 0,\n",
      " 'warm_start': False}\n"
     ]
    }
   ],
   "source": [
    "rf_default = RandomForestRegressor(n_estimators=10, random_state = 42)\n",
    "pprint(rf_default.get_params())"
   ]
  },
  {
   "cell_type": "markdown",
   "metadata": {
    "id": "Vs8UIgQR8JC9"
   },
   "source": [
    "Hyperparameter yang akan digunakan untuk model adalah:\n",
    "- jumlah estimator\n",
    "- max feature\n",
    "- max depth\n",
    "- min samples split\n",
    "- min samples leaf\n",
    "- bootstrap"
   ]
  },
  {
   "cell_type": "code",
   "execution_count": 28,
   "metadata": {
    "colab": {
     "base_uri": "https://localhost:8080/"
    },
    "id": "pck6HUOF938N",
    "outputId": "809c129e-a5f6-4139-9070-57aeef351143"
   },
   "outputs": [
    {
     "name": "stdout",
     "output_type": "stream",
     "text": [
      "{'bootstrap': [True, False],\n",
      " 'max_depth': [10, 20, 30, 40, 50, 60, 70, 80, 90, 100, 110, None],\n",
      " 'max_features': ['auto', 'sqrt'],\n",
      " 'min_samples_leaf': [1, 2, 4],\n",
      " 'min_samples_split': [2, 5, 10],\n",
      " 'n_estimators': [4, 8, 16, 32, 64]}\n"
     ]
    }
   ],
   "source": [
    "n_estimators = [4, 8, 16, 32, 64]\n",
    "max_features = ['auto', 'sqrt']\n",
    "max_depth = [int(x) for x in np.linspace(10, 110, num = 11)]\n",
    "max_depth.append(None)\n",
    "min_samples_split = [2, 5, 10]\n",
    "min_samples_leaf = [1, 2, 4]\n",
    "bootstrap = [True, False]\n",
    "\n",
    "grid = {'n_estimators': n_estimators,\n",
    "               'max_features': max_features,\n",
    "               'max_depth': max_depth,\n",
    "               'min_samples_split': min_samples_split,\n",
    "               'min_samples_leaf': min_samples_leaf,\n",
    "               'bootstrap': bootstrap}\n",
    "pprint(grid)"
   ]
  },
  {
   "cell_type": "markdown",
   "metadata": {
    "id": "HEIcz7tA-hSN"
   },
   "source": [
    "Grid hyperparameter diatas akan digunakan untuk menentukan parameter mana saja yang dapat mempengaruhi model untuk mendapatkan model terbaik"
   ]
  },
  {
   "cell_type": "code",
   "execution_count": 29,
   "metadata": {
    "id": "WKvWXsq6-OmF"
   },
   "outputs": [],
   "source": [
    "rf = RandomForestRegressor()\n",
    "rf_random = RandomizedSearchCV(estimator = rf, param_distributions = grid, n_iter = 100, cv = 3, verbose=2, random_state=42, n_jobs = -1)"
   ]
  },
  {
   "cell_type": "markdown",
   "metadata": {
    "id": "vhr2-S3nBHqZ"
   },
   "source": [
    "Dari proses model definition, terdapat dua model yang akan dilatih dan dievaluasi:\n",
    "- Model 1: Model default Random Forest dengan random state = 42\n",
    "- Model 2: Model Random Forest dengan hyperparameter yang telah ditentukan pada grid, dan memakai cross validation"
   ]
  },
  {
   "cell_type": "markdown",
   "metadata": {
    "id": "-WHlE0qrBEqI"
   },
   "source": [
    "#Model Training"
   ]
  },
  {
   "cell_type": "code",
   "execution_count": 30,
   "metadata": {
    "colab": {
     "base_uri": "https://localhost:8080/"
    },
    "id": "mxRa0_T9Bek0",
    "outputId": "3ace1823-8688-4f84-82af-3b101cfe91b1"
   },
   "outputs": [
    {
     "name": "stderr",
     "output_type": "stream",
     "text": [
      "/usr/local/lib/python3.7/dist-packages/ipykernel_launcher.py:3: DataConversionWarning: A column-vector y was passed when a 1d array was expected. Please change the shape of y to (n_samples,), for example using ravel().\n",
      "  This is separate from the ipykernel package so we can avoid doing imports until\n"
     ]
    },
    {
     "data": {
      "text/plain": [
       "65.22607803344727"
      ]
     },
     "execution_count": 30,
     "metadata": {
      "tags": []
     },
     "output_type": "execute_result"
    }
   ],
   "source": [
    "# Model 1\n",
    "start = tm.time()\n",
    "rf_default.fit(x_train, y_train)\n",
    "stop = tm.time()\n",
    "time1 = (stop - start)*1000\n",
    "time1"
   ]
  },
  {
   "cell_type": "code",
   "execution_count": 31,
   "metadata": {
    "colab": {
     "base_uri": "https://localhost:8080/"
    },
    "id": "BsmZhcxQA8e6",
    "outputId": "6ad98e74-bc76-4690-bdd8-46560a62bf1c"
   },
   "outputs": [
    {
     "name": "stdout",
     "output_type": "stream",
     "text": [
      "Fitting 3 folds for each of 100 candidates, totalling 300 fits\n"
     ]
    },
    {
     "name": "stderr",
     "output_type": "stream",
     "text": [
      "[Parallel(n_jobs=-1)]: Using backend LokyBackend with 2 concurrent workers.\n",
      "[Parallel(n_jobs=-1)]: Done  68 tasks      | elapsed:    4.8s\n",
      "[Parallel(n_jobs=-1)]: Done 300 out of 300 | elapsed:   15.3s finished\n",
      "/usr/local/lib/python3.7/dist-packages/sklearn/model_selection/_search.py:739: DataConversionWarning: A column-vector y was passed when a 1d array was expected. Please change the shape of y to (n_samples,), for example using ravel().\n",
      "  self.best_estimator_.fit(X, y, **fit_params)\n"
     ]
    },
    {
     "data": {
      "text/plain": [
       "15506.93154335022"
      ]
     },
     "execution_count": 31,
     "metadata": {
      "tags": []
     },
     "output_type": "execute_result"
    }
   ],
   "source": [
    "# Model 2\n",
    "start = tm.time()\n",
    "rf_random.fit(x_train, y_train)\n",
    "stop = tm.time()\n",
    "time2 = (stop - start)*1000\n",
    "time2"
   ]
  },
  {
   "cell_type": "markdown",
   "metadata": {
    "id": "wYH8E9QEAPk-"
   },
   "source": [
    "**Parameter terbaik model 2**\n",
    "\n",
    "Karena memakai metode cross validation, terdapat beberapa model dengan parameter yang berbeda pula.\n",
    "\n",
    "Parameter terbaik yang dapat diperoleh dari grid sebelumnya untuk model Random Forest adalah:"
   ]
  },
  {
   "cell_type": "code",
   "execution_count": 32,
   "metadata": {
    "colab": {
     "base_uri": "https://localhost:8080/"
    },
    "id": "q5qub1PuAHnC",
    "outputId": "bac9d040-b732-4169-97fc-f0693093d189"
   },
   "outputs": [
    {
     "data": {
      "text/plain": [
       "{'bootstrap': True,\n",
       " 'max_depth': 80,\n",
       " 'max_features': 'auto',\n",
       " 'min_samples_leaf': 4,\n",
       " 'min_samples_split': 10,\n",
       " 'n_estimators': 64}"
      ]
     },
     "execution_count": 32,
     "metadata": {
      "tags": []
     },
     "output_type": "execute_result"
    }
   ],
   "source": [
    "rf_random.best_params_"
   ]
  },
  {
   "cell_type": "markdown",
   "metadata": {
    "id": "6g6_0QWJObN-"
   },
   "source": [
    "**Parameter model 1**"
   ]
  },
  {
   "cell_type": "code",
   "execution_count": 33,
   "metadata": {
    "colab": {
     "base_uri": "https://localhost:8080/"
    },
    "id": "LpjwtS21Ocay",
    "outputId": "94d659e6-83e8-49d2-fc4c-80a37e62f10a"
   },
   "outputs": [
    {
     "data": {
      "text/plain": [
       "{'bootstrap': True,\n",
       " 'ccp_alpha': 0.0,\n",
       " 'criterion': 'mse',\n",
       " 'max_depth': None,\n",
       " 'max_features': 'auto',\n",
       " 'max_leaf_nodes': None,\n",
       " 'max_samples': None,\n",
       " 'min_impurity_decrease': 0.0,\n",
       " 'min_impurity_split': None,\n",
       " 'min_samples_leaf': 1,\n",
       " 'min_samples_split': 2,\n",
       " 'min_weight_fraction_leaf': 0.0,\n",
       " 'n_estimators': 10,\n",
       " 'n_jobs': None,\n",
       " 'oob_score': False,\n",
       " 'random_state': 42,\n",
       " 'verbose': 0,\n",
       " 'warm_start': False}"
      ]
     },
     "execution_count": 33,
     "metadata": {
      "tags": []
     },
     "output_type": "execute_result"
    }
   ],
   "source": [
    "rf_default.get_params()"
   ]
  },
  {
   "cell_type": "markdown",
   "metadata": {
    "id": "biVPGKzKCPyB"
   },
   "source": [
    "#Model Evaluation"
   ]
  },
  {
   "cell_type": "markdown",
   "metadata": {
    "id": "BR0QVcg1IP7f"
   },
   "source": [
    "Fungsi untuk evaluasi model"
   ]
  },
  {
   "cell_type": "code",
   "execution_count": 34,
   "metadata": {
    "id": "thL1E8d2In5l"
   },
   "outputs": [],
   "source": [
    "def regression_results(y_true, y_pred):\n",
    "\n",
    "    explained_variance=metrics.explained_variance_score(y_true, y_pred)\n",
    "    mean_absolute_error=metrics.mean_absolute_error(y_true, y_pred) \n",
    "    mse=metrics.mean_squared_error(y_true, y_pred) \n",
    "    median_absolute_error=metrics.median_absolute_error(y_true, y_pred)\n",
    "    r2=metrics.r2_score(y_true, y_pred)\n",
    "\n",
    "    print('explained_variance: ', round(explained_variance,4))\n",
    "    print('r2 Score: ', round(r2,4))\n",
    "    print('MAE: ', round(mean_absolute_error,4))\n",
    "    print('MSE: ', round(mse,4))\n",
    "    print('RMSE: ', round(np.sqrt(mse),4))\n",
    "\n",
    "    return round(r2,4), round(mean_absolute_error, 4), round(mse, 4)"
   ]
  },
  {
   "cell_type": "markdown",
   "metadata": {
    "id": "rjCIwzmlINDR"
   },
   "source": [
    "**Fitting model 1**"
   ]
  },
  {
   "cell_type": "code",
   "execution_count": 35,
   "metadata": {
    "colab": {
     "base_uri": "https://localhost:8080/"
    },
    "id": "mX-B1-zFAbr0",
    "outputId": "d5e9028b-95c9-4d41-8cfe-cf2675fd8cd1"
   },
   "outputs": [
    {
     "name": "stdout",
     "output_type": "stream",
     "text": [
      "explained_variance:  0.8056\n",
      "r2 Score:  0.8024\n",
      "MAE:  2851.3115\n",
      "MSE:  27262679.0485\n",
      "RMSE:  5221.3675\n"
     ]
    }
   ],
   "source": [
    "prediction_default = rf_default.predict(x_test)\n",
    "a1, a2, a3 = regression_results(y_test, prediction_default)"
   ]
  },
  {
   "cell_type": "markdown",
   "metadata": {
    "id": "WlsDtWewL3_M"
   },
   "source": [
    "**Fitting model 2**"
   ]
  },
  {
   "cell_type": "code",
   "execution_count": 36,
   "metadata": {
    "colab": {
     "base_uri": "https://localhost:8080/"
    },
    "id": "51KmAu7BKO44",
    "outputId": "65cb6639-767d-4c6e-ea56-24612a05c265"
   },
   "outputs": [
    {
     "name": "stdout",
     "output_type": "stream",
     "text": [
      "explained_variance:  0.8658\n",
      "r2 Score:  0.8648\n",
      "MAE:  2411.7806\n",
      "MSE:  18651958.3944\n",
      "RMSE:  4318.7913\n"
     ]
    }
   ],
   "source": [
    "prediction_random = rf_random.predict(x_test)\n",
    "b1, b2, b3 = regression_results(y_test, prediction_random)"
   ]
  },
  {
   "cell_type": "markdown",
   "metadata": {
    "id": "GvhHsHqcMw51"
   },
   "source": [
    "**Visualisasi**"
   ]
  },
  {
   "cell_type": "code",
   "execution_count": 37,
   "metadata": {
    "colab": {
     "base_uri": "https://localhost:8080/",
     "height": 107
    },
    "id": "S50AllnJMeDX",
    "outputId": "94236128-a094-4591-dccb-fa1782a30141"
   },
   "outputs": [
    {
     "data": {
      "text/html": [
       "<div>\n",
       "<style scoped>\n",
       "    .dataframe tbody tr th:only-of-type {\n",
       "        vertical-align: middle;\n",
       "    }\n",
       "\n",
       "    .dataframe tbody tr th {\n",
       "        vertical-align: top;\n",
       "    }\n",
       "\n",
       "    .dataframe thead th {\n",
       "        text-align: right;\n",
       "    }\n",
       "</style>\n",
       "<table border=\"1\" class=\"dataframe\">\n",
       "  <thead>\n",
       "    <tr style=\"text-align: right;\">\n",
       "      <th></th>\n",
       "      <th>model</th>\n",
       "      <th>score</th>\n",
       "      <th>mean_avg_err</th>\n",
       "      <th>mean_squared_err</th>\n",
       "      <th>n_estimators</th>\n",
       "      <th>time(ms)</th>\n",
       "    </tr>\n",
       "  </thead>\n",
       "  <tbody>\n",
       "    <tr>\n",
       "      <th>0</th>\n",
       "      <td>default</td>\n",
       "      <td>80.24</td>\n",
       "      <td>2851.3115</td>\n",
       "      <td>2.726268e+07</td>\n",
       "      <td>10</td>\n",
       "      <td>65.23</td>\n",
       "    </tr>\n",
       "    <tr>\n",
       "      <th>1</th>\n",
       "      <td>random_grid</td>\n",
       "      <td>86.48</td>\n",
       "      <td>2411.7806</td>\n",
       "      <td>1.865196e+07</td>\n",
       "      <td>64</td>\n",
       "      <td>15506.93</td>\n",
       "    </tr>\n",
       "  </tbody>\n",
       "</table>\n",
       "</div>"
      ],
      "text/plain": [
       "         model  score  mean_avg_err  mean_squared_err  n_estimators  time(ms)\n",
       "0      default  80.24     2851.3115      2.726268e+07            10     65.23\n",
       "1  random_grid  86.48     2411.7806      1.865196e+07            64  15506.93"
      ]
     },
     "execution_count": 37,
     "metadata": {
      "tags": []
     },
     "output_type": "execute_result"
    }
   ],
   "source": [
    "data = [['default', a1*100, a2, a3, rf_default.get_params()['n_estimators'], round(time1, 2)],\n",
    "        ['random_grid', b1*100, b2, b3, rf_random.best_params_['n_estimators'], round(time2, 2)]]\n",
    "performance_df = pd.DataFrame(data, columns = [\n",
    "    'model',\n",
    "    'score',\n",
    "    'mean_avg_err',\n",
    "    'mean_squared_err',\n",
    "    'n_estimators',\n",
    "    'time(ms)'\n",
    "    ])\n",
    "performance_df"
   ]
  },
  {
   "cell_type": "markdown",
   "metadata": {
    "id": "HW4EDcECU44F"
   },
   "source": [
    "**Mean Average Error (MAE) Comparison**"
   ]
  },
  {
   "cell_type": "code",
   "execution_count": 38,
   "metadata": {
    "colab": {
     "base_uri": "https://localhost:8080/",
     "height": 383
    },
    "id": "pST-G26KTc8N",
    "outputId": "bcc217ec-5ecc-4dbe-ac37-1ad34f7fe7e8"
   },
   "outputs": [
    {
     "data": {
      "image/png": "[encoded data removed]",
      "text/plain": [
       "<Figure size 360x360 with 1 Axes>"
      ]
     },
     "metadata": {
      "needs_background": "light",
      "tags": []
     },
     "output_type": "display_data"
    }
   ],
   "source": [
    "g = sns.catplot(data=performance_df, y='mean_avg_err', x='model', palette='mako', kind='bar')\n",
    "plt.grid()\n",
    "plt.show()"
   ]
  },
  {
   "cell_type": "markdown",
   "metadata": {
    "id": "Xn0WmFRdVEVG"
   },
   "source": [
    "**Mean Squared Error (MSE) Comparison**"
   ]
  },
  {
   "cell_type": "code",
   "execution_count": 39,
   "metadata": {
    "colab": {
     "base_uri": "https://localhost:8080/",
     "height": 383
    },
    "id": "L7x0r4GdVA45",
    "outputId": "5cccbea8-568b-4b7c-c52b-83001065b06c"
   },
   "outputs": [
    {
     "data": {
      "image/png": "[encoded data removed]",
      "text/plain": [
       "<Figure size 360x360 with 1 Axes>"
      ]
     },
     "metadata": {
      "needs_background": "light",
      "tags": []
     },
     "output_type": "display_data"
    }
   ],
   "source": [
    "g = sns.catplot(data=performance_df, y='mean_squared_err', x='model', palette='flare', kind='bar')\n",
    "plt.grid()\n",
    "plt.show()"
   ]
  },
  {
   "cell_type": "markdown",
   "metadata": {
    "id": "H_1kb9KzXK07"
   },
   "source": [
    "**Training time**"
   ]
  },
  {
   "cell_type": "code",
   "execution_count": 40,
   "metadata": {
    "colab": {
     "base_uri": "https://localhost:8080/",
     "height": 167
    },
    "id": "dDJOPOUAVDap",
    "outputId": "72a8a3e6-36ca-4e1d-b77b-ff1bb739ede8"
   },
   "outputs": [
    {
     "data": {
      "text/html": [
       "<div>\n",
       "<style scoped>\n",
       "    .dataframe tbody tr th:only-of-type {\n",
       "        vertical-align: middle;\n",
       "    }\n",
       "\n",
       "    .dataframe tbody tr th {\n",
       "        vertical-align: top;\n",
       "    }\n",
       "\n",
       "    .dataframe thead th {\n",
       "        text-align: right;\n",
       "    }\n",
       "</style>\n",
       "<table border=\"1\" class=\"dataframe\">\n",
       "  <thead>\n",
       "    <tr style=\"text-align: right;\">\n",
       "      <th></th>\n",
       "      <th>model</th>\n",
       "      <th>type_time</th>\n",
       "      <th>time_stamp</th>\n",
       "    </tr>\n",
       "  </thead>\n",
       "  <tbody>\n",
       "    <tr>\n",
       "      <th>0</th>\n",
       "      <td>default</td>\n",
       "      <td>start</td>\n",
       "      <td>0.00</td>\n",
       "    </tr>\n",
       "    <tr>\n",
       "      <th>1</th>\n",
       "      <td>default</td>\n",
       "      <td>end</td>\n",
       "      <td>65.23</td>\n",
       "    </tr>\n",
       "    <tr>\n",
       "      <th>2</th>\n",
       "      <td>random_grid</td>\n",
       "      <td>start</td>\n",
       "      <td>0.00</td>\n",
       "    </tr>\n",
       "    <tr>\n",
       "      <th>3</th>\n",
       "      <td>random_grid</td>\n",
       "      <td>end</td>\n",
       "      <td>15506.93</td>\n",
       "    </tr>\n",
       "  </tbody>\n",
       "</table>\n",
       "</div>"
      ],
      "text/plain": [
       "         model type_time  time_stamp\n",
       "0      default     start        0.00\n",
       "1      default       end       65.23\n",
       "2  random_grid     start        0.00\n",
       "3  random_grid       end    15506.93"
      ]
     },
     "execution_count": 40,
     "metadata": {
      "tags": []
     },
     "output_type": "execute_result"
    }
   ],
   "source": [
    "data = [['default', 'start', 0],\n",
    "        ['default', 'end', round(time1, 2)],\n",
    "        ['random_grid', 'start', 0],\n",
    "        ['random_grid', 'end', round(time2, 2)]]\n",
    "time_df = pd.DataFrame(data, columns = [\n",
    "    'model',\n",
    "    'type_time',\n",
    "    'time_stamp',\n",
    "    ])\n",
    "time_df"
   ]
  },
  {
   "cell_type": "code",
   "execution_count": 41,
   "metadata": {
    "colab": {
     "base_uri": "https://localhost:8080/",
     "height": 281
    },
    "id": "NaZlDD6SX0hk",
    "outputId": "a5ed3d88-9e23-48a1-8ef5-ad12fc960a40"
   },
   "outputs": [
    {
     "data": {
      "image/png": "[encoded data removed]",
      "text/plain": [
       "<Figure size 432x288 with 1 Axes>"
      ]
     },
     "metadata": {
      "needs_background": "light",
      "tags": []
     },
     "output_type": "display_data"
    }
   ],
   "source": [
    "g = sns.lineplot(data=time_df, y='time_stamp', x=\"type_time\", hue=\"model\")\n",
    "plt.ylabel(\"time elapsed (ms)\")\n",
    "plt.show()"
   ]
  },
  {
   "cell_type": "markdown",
   "metadata": {
    "id": "HpQmmdKWaVF6"
   },
   "source": [
    "**R2/Accuracy Score Comparison**"
   ]
  },
  {
   "cell_type": "code",
   "execution_count": 42,
   "metadata": {
    "colab": {
     "base_uri": "https://localhost:8080/",
     "height": 351
    },
    "id": "vOO8uni_bP4B",
    "outputId": "d2125e32-14cb-4417-eb0b-9ab126ab4aaa"
   },
   "outputs": [
    {
     "data": {
      "image/png": "[encoded data removed]",
      "text/plain": [
       "<Figure size 1440x360 with 3 Axes>"
      ]
     },
     "metadata": {
      "needs_background": "light",
      "tags": []
     },
     "output_type": "display_data"
    }
   ],
   "source": [
    "fig, axs = plt.subplots(figsize=(20, 5), ncols=3)\n",
    "g = sns.barplot(x='model', y='mean_avg_err', data=performance_df, ax=axs[0], palette='mako')\n",
    "axs[0].grid()\n",
    "axs[0].set_title('MEAN AVERAGE ERROR')\n",
    "g = sns.barplot(x='model', y='mean_squared_err', data=performance_df, ax=axs[1], palette='mako')\n",
    "axs[1].grid()\n",
    "axs[1].set_title('MEAN SQUARED ERROR')\n",
    "g = sns.barplot(x='model', y='score', data=performance_df, ax=axs[2], palette='flare')\n",
    "axs[2].grid()\n",
    "axs[2].set_title('ACCURACY SCORE')\n",
    "plt.show()"
   ]
  },
  {
   "cell_type": "markdown",
   "metadata": {
    "id": "Rs1mHv3ZfHz1"
   },
   "source": [
    "#Model Saving"
   ]
  },
  {
   "cell_type": "markdown",
   "metadata": {
    "id": "pqNhknkOfy4m"
   },
   "source": [
    "Dengan menggunakan library pickle, model regresi random akan disimpan"
   ]
  },
  {
   "cell_type": "code",
   "execution_count": 43,
   "metadata": {
    "id": "43TyYh01fKaL"
   },
   "outputs": [],
   "source": [
    "pickle.dump(rf_random, open('model.pkl','wb'))"
   ]
  },
  {
   "cell_type": "markdown",
   "metadata": {
    "id": "g8GjJbJ9gDeA"
   },
   "source": [
    "#Model Inference"
   ]
  },
  {
   "cell_type": "markdown",
   "metadata": {
    "id": "cmdyDzkPkXaJ"
   },
   "source": [
    "Pembuatan data"
   ]
  },
  {
   "cell_type": "code",
   "execution_count": 44,
   "metadata": {
    "colab": {
     "base_uri": "https://localhost:8080/"
    },
    "id": "8j8DIL9_i5jO",
    "outputId": "f19a37ac-f9f8-428a-fecb-e9df2432e1f2"
   },
   "outputs": [
    {
     "data": {
      "text/plain": [
       "[[45, 27.175, 1, 0, 1, 0, 0, 1],\n",
       " [18, 25.175, 0, 1, 0, 1, 1, 0],\n",
       " [23, 22.175, 2, 2, 0, 1, 0, 1],\n",
       " [50, 30.175, 4, 3, 0, 1, 0, 1],\n",
       " [60, 28.175, 3, 0, 1, 0, 1, 0]]"
      ]
     },
     "execution_count": 44,
     "metadata": {
      "tags": []
     },
     "output_type": "execute_result"
    }
   ],
   "source": [
    "inf_data = [\n",
    "            [45, 27.175, 1, 0, 1, 0, 0, 1],\n",
    "            [18, 25.175, 0, 1, 0, 1, 1, 0],\n",
    "            [23, 22.175, 2, 2, 0, 1, 0, 1],\n",
    "            [50, 30.175, 4, 3, 0, 1, 0, 1],\n",
    "            [60, 28.175, 3, 0, 1, 0, 1, 0],\n",
    "]\n",
    "inf_data"
   ]
  },
  {
   "cell_type": "code",
   "execution_count": 45,
   "metadata": {
    "colab": {
     "base_uri": "https://localhost:8080/"
    },
    "id": "_THfIzzKgJcK",
    "outputId": "4c334ae8-b45a-424e-f8b8-4740f5044fbf"
   },
   "outputs": [
    {
     "name": "stdout",
     "output_type": "stream",
     "text": [
      "data: [45, 27.175, 1, 0, 1, 0, 0, 1] - charges prediction: 26271.67\n",
      "data: [18, 25.175, 0, 1, 0, 1, 1, 0] - charges prediction: 1781.59\n",
      "data: [23, 22.175, 2, 2, 0, 1, 0, 1] - charges prediction: 16465.81\n",
      "data: [50, 30.175, 4, 3, 0, 1, 0, 1] - charges prediction: 43822.18\n",
      "data: [60, 28.175, 3, 0, 1, 0, 1, 0] - charges prediction: 15213.25\n"
     ]
    }
   ],
   "source": [
    "predictions = rf_random.predict(inf_data)\n",
    "for i in range(0,len(inf_data)):\n",
    "    print(f'data: {inf_data[i]} - charges prediction: {predictions[i]:.2f}')"
   ]
  },
  {
   "cell_type": "markdown",
   "metadata": {
    "id": "9cKaunZ-mVAg"
   },
   "source": [
    "#Kesimpulan"
   ]
  },
  {
   "cell_type": "markdown",
   "metadata": {
    "id": "xaVwD0lxmXAt"
   },
   "source": [
    "Dari proses awal sampai akhir, telah diciptakan sebuah model yang dapat melakukan prediksi. Tujuan prediksi ini melakukan perkiraan biaya yang akan ditanggung oleh pihak asuransi kesehatan.\n",
    "\n",
    "Dengan demikian, objektif yang ditetapkan sebelumnya telah tercapai.\n",
    "\n",
    "\n",
    "Summary:\n",
    "- Topik: **Regresi**\n",
    "- Dataset: **Medical Cost Personal Dataset**\n",
    "- Ukuran Dataset: **7 fitur x 1338 baris**\n",
    "- Model: **Random Forest Regression** dengan Random Grid hyperparameter\n",
    "- Akurasi Model: **86.31%**"
   ]
  }
 ],
 "metadata": {
  "colab": {
   "collapsed_sections": [],
   "name": "Medical.ipynb",
   "provenance": []
  },
  "kernelspec": {
   "display_name": "Python 3",
   "language": "python",
   "name": "python3"
  },
  "language_info": {
   "codemirror_mode": {
    "name": "ipython",
    "version": 3
   },
   "file_extension": ".py",
   "mimetype": "text/x-python",
   "name": "python",
   "nbconvert_exporter": "python",
   "pygments_lexer": "ipython3",
   "version": "3.8.5"
  }
 },
 "nbformat": 4,
 "nbformat_minor": 1
}
